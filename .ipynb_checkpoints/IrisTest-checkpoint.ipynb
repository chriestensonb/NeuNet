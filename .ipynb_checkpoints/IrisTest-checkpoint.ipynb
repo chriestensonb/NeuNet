{
 "cells": [
  {
   "cell_type": "code",
   "execution_count": 1,
   "metadata": {
    "collapsed": true
   },
   "outputs": [],
   "source": [
    "from sklearn import datasets\n",
    "import numpy as np\n",
    "import pandas as pd"
   ]
  },
  {
   "cell_type": "code",
   "execution_count": 2,
   "metadata": {
    "collapsed": true
   },
   "outputs": [],
   "source": [
    "iris=datasets.load_iris()\n",
    "irisData = iris.data\n",
    "numSamples = irisData.shape[0]\n",
    "numFeatures = irisData.shape[1]\n",
    "irisData = np.insert(irisData,0,np.ones((numSamples,)),axis=1)\n",
    "irisLabels = iris.target\n",
    "numClasses = np.unique(irisLabels).shape[0]\n",
    "irisLabels = np.array(pd.get_dummies(irisLabels))"
   ]
  },
  {
   "cell_type": "code",
   "execution_count": 15,
   "metadata": {
    "collapsed": false
   },
   "outputs": [],
   "source": [
    "hiddenLayerSize = 5\n",
    "Theta1 = np.random.random((hiddenLayerSize,numFeatures+1))*.1 - .05\n",
    "Delta1 = np.zeros((hiddenLayerSize,numFeatures+1))\n",
    "Theta2 = np.random.random((numClasses,hiddenLayerSize +1))*.1 - .05\n",
    "Delta2 = np.zeros((numClasses,hiddenLayerSize +1))\n",
    "a0 = np.zeros((numFeatures,))\n",
    "a1 = np.zeros((hiddenLayerSize+1,))\n",
    "a2 = np.zeros((numClasses,))\n",
    "delta1 = a1\n",
    "delta2 = a2"
   ]
  },
  {
   "cell_type": "code",
   "execution_count": 16,
   "metadata": {
    "collapsed": false
   },
   "outputs": [],
   "source": [
    "outputs = []\n",
    "for i in range(numSamples):\n",
    "    a0 = irisData[i,:]\n",
    "    z1 = np.dot(Theta1,a0)\n",
    "    a1[0]=1\n",
    "    for j in range(z1.shape[0]):\n",
    "        a1[j+1]=1/(1+np.exp(-z1[j]))\n",
    "    z2 = np.dot(Theta2,a1)\n",
    "    for j in range(z2.shape[0]):\n",
    "        a2[j]=1/(1+np.exp(-z2[j]))\n",
    "    outputs.append(a2)"
   ]
  }
 ],
 "metadata": {
  "kernelspec": {
   "display_name": "Python 3",
   "language": "python",
   "name": "python3"
  },
  "language_info": {
   "codemirror_mode": {
    "name": "ipython",
    "version": 3
   },
   "file_extension": ".py",
   "mimetype": "text/x-python",
   "name": "python",
   "nbconvert_exporter": "python",
   "pygments_lexer": "ipython3",
   "version": "3.5.1"
  }
 },
 "nbformat": 4,
 "nbformat_minor": 0
}
